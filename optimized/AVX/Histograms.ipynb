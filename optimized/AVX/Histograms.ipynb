{
 "cells": [
  {
   "cell_type": "code",
   "execution_count": 1,
   "metadata": {},
   "outputs": [],
   "source": [
    "import numpy as np\n",
    "import matplotlib.pyplot as plt\n",
    "import pandas as pd "
   ]
  },
  {
   "cell_type": "code",
   "execution_count": 7,
   "metadata": {},
   "outputs": [],
   "source": [
    "names = [\"tabulars/CRC32Hash.csv\" ]\n",
    "\n",
    "colors = [\"purple\"]"
   ]
  },
  {
   "cell_type": "code",
   "execution_count": 8,
   "metadata": {},
   "outputs": [
    {
     "name": "stdout",
     "output_type": "stream",
     "text": [
      "0 1.8420417809331033\n"
     ]
    },
    {
     "data": {
      "text/plain": [
       "<Figure size 12000x9000 with 0 Axes>"
      ]
     },
     "metadata": {},
     "output_type": "display_data"
    },
    {
     "data": {
      "text/plain": [
       "<Figure size 12000x9000 with 0 Axes>"
      ]
     },
     "metadata": {},
     "output_type": "display_data"
    }
   ],
   "source": [
    "plt.figure(figsize=(40,30), dpi=300)\n",
    "\n",
    "nrows = 4\n",
    "ncols = 2\n",
    "\n",
    "plt.rcParams.update({'font.size': 60})\n",
    "\n",
    "for i in range(len(names)):\n",
    "\n",
    "    df = pd.read_csv(names[i], sep = ',')\n",
    "    index = np.array(df[\"index\"])\n",
    "    lens = np.array(df[\"list_len\"])\n",
    "\n",
    "    plt.plot(nrows, ncols, i+1)\n",
    "    ax = plt.gca()\n",
    "\n",
    "    #if i == 0:\n",
    "    #   ax.set_xlim([0, 50])\n",
    "\n",
    "    plt.bar(index, lens, color = colors[i])\n",
    "    plt.title(names[i][9:len(names[i]) - 4])\n",
    "    plt.ylabel(\"collisions\", fontsize = 50)\n",
    "    plt.xlabel(\"index\", fontsize = 50)\n",
    "\n",
    "    plt.savefig(\"png/\" + names[i][9:len(names[i]) - 4] + \".png\")\n",
    "\n",
    "    disp = np.var(lens)\n",
    "    print(i, disp)\n",
    "\n",
    "    plt.clf()\n",
    "\n",
    "\n",
    "plt.figure(figsize=(40,30), dpi=300)\n",
    "\n",
    "nrows = 4\n",
    "ncols = 2\n",
    "\n",
    "plt.rcParams.update({'font.size': 60})\n",
    "\n",
    "for i in range(3, len(names)):\n",
    "\n",
    "    df = pd.read_csv(names[i], sep = ',')\n",
    "    index = np.array(df[\"index\"])\n",
    "    lens = np.array(df[\"list_len\"])\n",
    "    plt.subplot(nrows, ncols, nrows * ncols)\n",
    "    plt.bar(index, lens, color = colors[i])\n",
    "\n",
    "    plt.title(\"All decent together\")\n",
    "    plt.ylabel(\"collisions\", fontsize = 50)\n",
    "    plt.xlabel(\"index\", fontsize = 50)\n",
    "\n",
    "plt.savefig(\"png/everything.png\")"
   ]
  },
  {
   "cell_type": "code",
   "execution_count": null,
   "metadata": {},
   "outputs": [],
   "source": []
  }
 ],
 "metadata": {
  "kernelspec": {
   "display_name": "Python 3.9.13 ('base')",
   "language": "python",
   "name": "python3"
  },
  "language_info": {
   "codemirror_mode": {
    "name": "ipython",
    "version": 3
   },
   "file_extension": ".py",
   "mimetype": "text/x-python",
   "name": "python",
   "nbconvert_exporter": "python",
   "pygments_lexer": "ipython3",
   "version": "3.10.9"
  },
  "orig_nbformat": 4,
  "vscode": {
   "interpreter": {
    "hash": "b1a68be5a044092dc45928c2111798f48783085c2a092e72660c0db1b8324a6e"
   }
  }
 },
 "nbformat": 4,
 "nbformat_minor": 2
}
